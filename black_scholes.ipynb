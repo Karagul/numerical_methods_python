{
 "cells": [
  {
   "cell_type": "markdown",
   "metadata": {
    "collapsed": false
   },
   "source": [
    "## References: http://www.cs.cornell.edu/info/courses/spring-98/cs522/content/lab4.pdf -->  FDF code"
   ]
  },
  {
   "cell_type": "markdown",
   "metadata": {
    "collapsed": false
   },
   "source": [
    "#### Fisher Black and Myron Scholes published their seminal work on option pricing in 1973. In it, they described a mathematical framework for calculating the fair price of a European option in which they used a no-arbitrage argument (perfect information within markets) to derive a partial differential equation which governs the evolution of the option price with respect to the time to expiry, $t$, and the price of the underlying asset, $S$. First, a brief description of options is warranted, followed by the derivation of, and assumptions underlying, the Black Scholes PDE. If we denote the current price of the underlying asset by S, then the payoffs at expiry, T, for a given exercise price, K, is given by: $$ Call(S,t) = max(S-K,0) $$ $$Pull(S,t) = max(K-S,0)$$K represents the fixed price at which the owner of the option can buy (call) or sell (put) the underlying security or commodity. Let's begin by constructing a portfolio, $\\prod$, in which we are long one option, $V(S,t)$, and we are short an unknown quantity, $\\Delta$ of the underlying quantity S. Therefore, $\\prod = C - \\Delta{S}$ Now, Black and Scholes advanced upon this step in a fairly creative manner by invoking the no-arbitrage principle. That is, the value of the portfolio must equal, on average, the value of the portfolio invested at the risk-free interest rate, $r$. The mathematical derivation aside, the BS partial differential equation is: $$ \\frac{\\delta{V}}{\\delta{t}} + \\frac{\\sigma^{2}S^{2}\\delta^{2}{V}}{2\\delta{S}^{2}}+rS\\frac{\\delta{V}}{\\delta{S}} - rV = 0  \\space\\space\\space\\space\\space (1)$$\n",
    "#### (Note this is technically a convection-diffusion equation, which is a type of second-order PDE) This simple PDE marks the evolution of any derivative whose underlying asset satisfies the Black-Scholes assumptions."
   ]
  },
  {
   "cell_type": "markdown",
   "metadata": {
    "collapsed": false
   },
   "source": [
    "##### Let's implement the closed form solution for the exact value of equation (1) for a European calls and puts, assuming that dividends don't exist. This will be useful in finding the steady state equilbirium solution for an option with a specific underlying asset price, in combination with a Strike Price (K), Implied Volatility ($\\sigma$) and Time till expiration (T) that we shall later vary. For call and put options respectively, the formulae are: $$V(S_t,t) = S_{t}N(d_1) - Ke^{-rT}N(d_2) \\space\\space\\space(Call Option)$$$$V(S_t,t) = Ke^{-rT} N(d_1) - S_{t} N(d_2)\\space\\space\\space(Put Option)$$ where $d1 = \\frac{ln(\\frac{S_t}{K}) + (r + \\frac{\\sigma^{2}}{2})}{\\sigma\\sqrt{T}}$ and $d2 = d1 - \\sigma\\sqrt{T}$ where N is a function representative of the standard normal distribution. This expression represents equation $(2)$."
   ]
  },
  {
   "cell_type": "code",
   "execution_count": 12,
   "metadata": {
    "collapsed": false
   },
   "outputs": [
   ],
   "source": [
    "from scipy.stats import norm #instead of trying to approximte the normal distribution, use scipy\n",
    "from scipy import *\n",
    "import numpy as np\n",
    "def bs_exact(type,S,T,K,r,sigma):\n",
    "    d1 = (np.log(float(S)/K)+((r)+(sigma**2/2.))*T)/(sigma*np.sqrt(T))\n",
    "    d2 = d1-sigma*np.sqrt(T)\n",
    "    if (type == 'call') or (type == 'Call'):\n",
    "        return S*norm.cdf(d1)-K*np.exp(-r*T)*norm.cdf(d2)\n",
    "    elif (type == 'put') or (type == 'Put'):\n",
    "        return K*np.exp(-r*T)*norm.cdf(-d2)-S*norm.cdf(-d1)"
   ]
  },
  {
   "cell_type": "markdown",
   "metadata": {
    "collapsed": false
   },
   "source": [
    "Why is this expression useful? Well, the list of options for a stock at any given day are such that the risk-free interest rate and time to expiry are the same, while there are multiple strike prices. Hence, for varying rates of implied volatility and strike price, we can find the fair values of the corresponding options.\n",
    "Let's run some tests of the stability of these 'exact' solutions by seeing how they hold up against different strike prices."
   ]
  },
  {
   "cell_type": "code",
   "execution_count": 3,
   "metadata": {
    "collapsed": false
   },
   "outputs": [
    {
     "data": {
      "image/png": "[encoded data removed]"
     },
     "metadata": {
      "image/png": {
       "height": 426,
       "width": 725
      }
     }
    }
   ],
   "source": [
    "def bs_exact_graph(S0, m, mu, sigma, T, lines):\n",
    "    import matplotlib.pyplot as plt\n",
    "    S = empty(shape=(m+1,lines))\n",
    "    t = np.linspace(0,T,m+1)\n",
    "    h = T/np.float(m) #step size in time\n",
    "    S[0] =S0 #fill the first row with the underlying price of the asset, which we'll use to populate matrix S\n",
    "    for i in np.arange(1,m+1):\n",
    "        S[i]=S[i-1]*(1+mu*h+sigma*np.sqrt(h)*randn(lines))\n",
    "    plt.plot(t,S)\n",
    "    plt.xlabel('Time (Years)')\n",
    "    plt.ylabel('Asset Prices (Dollars)')\n",
    "    plt.show('Underlying price of asset')\n",
    "bs_exact_graph(S0=100,m=500,mu=0.1,sigma=0.5,T=1,lines=5)"
   ]
  },
  {
   "cell_type": "code",
   "execution_count": 4,
   "metadata": {
    "collapsed": false
   },
   "outputs": [
    {
     "ename": "NameError",
     "evalue": "name 'bs_exact' is not defined",
     "output_type": "error",
     "traceback": [
      "\u001b[0;31m---------------------------------------------------------------------------\u001b[0m",
      "\u001b[0;31mNameError\u001b[0m                                 Traceback (most recent call last)",
      "\u001b[0;32m<ipython-input-4-31bca6a798cf>\u001b[0m in \u001b[0;36m<module>\u001b[0;34m()\u001b[0m\n\u001b[1;32m     11\u001b[0m \u001b[0mc3\u001b[0m \u001b[0;34m=\u001b[0m \u001b[0;34m[\u001b[0m\u001b[0;34m]\u001b[0m\u001b[0;34m\u001b[0m\u001b[0m\n\u001b[1;32m     12\u001b[0m \u001b[0;32mfor\u001b[0m \u001b[0mi\u001b[0m \u001b[0;32min\u001b[0m \u001b[0mt\u001b[0m\u001b[0;34m:\u001b[0m\u001b[0;34m\u001b[0m\u001b[0m\n\u001b[0;32m---> 13\u001b[0;31m     \u001b[0mc1\u001b[0m\u001b[0;34m.\u001b[0m\u001b[0mappend\u001b[0m\u001b[0;34m(\u001b[0m\u001b[0mbs_exact\u001b[0m\u001b[0;34m(\u001b[0m\u001b[0;34m'call'\u001b[0m\u001b[0;34m,\u001b[0m\u001b[0mS0\u001b[0m\u001b[0;34m,\u001b[0m\u001b[0mi\u001b[0m\u001b[0;34m,\u001b[0m\u001b[0mK\u001b[0m\u001b[0;34m,\u001b[0m\u001b[0mr\u001b[0m\u001b[0;34m,\u001b[0m\u001b[0msigma\u001b[0m\u001b[0;34m)\u001b[0m\u001b[0;34m)\u001b[0m\u001b[0;34m\u001b[0m\u001b[0m\n\u001b[0m\u001b[1;32m     14\u001b[0m     \u001b[0mc2\u001b[0m\u001b[0;34m.\u001b[0m\u001b[0mappend\u001b[0m\u001b[0;34m(\u001b[0m\u001b[0mbs_exact\u001b[0m\u001b[0;34m(\u001b[0m\u001b[0;34m'call'\u001b[0m\u001b[0;34m,\u001b[0m\u001b[0mS0\u001b[0m\u001b[0;34m,\u001b[0m\u001b[0mi\u001b[0m\u001b[0;34m,\u001b[0m\u001b[0mK\u001b[0m\u001b[0;34m+\u001b[0m\u001b[0;36m4\u001b[0m\u001b[0;34m,\u001b[0m\u001b[0mr\u001b[0m\u001b[0;34m,\u001b[0m\u001b[0msigma\u001b[0m\u001b[0;34m)\u001b[0m\u001b[0;34m)\u001b[0m\u001b[0;34m\u001b[0m\u001b[0m\n\u001b[1;32m     15\u001b[0m     \u001b[0mc3\u001b[0m\u001b[0;34m.\u001b[0m\u001b[0mappend\u001b[0m\u001b[0;34m(\u001b[0m\u001b[0mbs_exact\u001b[0m\u001b[0;34m(\u001b[0m\u001b[0;34m'call'\u001b[0m\u001b[0;34m,\u001b[0m\u001b[0mS0\u001b[0m\u001b[0;34m,\u001b[0m\u001b[0mi\u001b[0m\u001b[0;34m,\u001b[0m\u001b[0mK\u001b[0m\u001b[0;34m-\u001b[0m\u001b[0;36m4\u001b[0m\u001b[0;34m,\u001b[0m\u001b[0mr\u001b[0m\u001b[0;34m,\u001b[0m\u001b[0msigma\u001b[0m\u001b[0;34m)\u001b[0m\u001b[0;34m)\u001b[0m\u001b[0;34m\u001b[0m\u001b[0m\n",
      "\u001b[0;31mNameError\u001b[0m: name 'bs_exact' is not defined"
     ]
    }
   ],
   "source": [
    "## Vary the strike price over a certain time interval\n",
    "K=97\n",
    "T=2.5\n",
    "S0=100\n",
    "r=0.03\n",
    "sigma=0.5\n",
    "t = np.linspace(0,T,100+1)\n",
    "t2 = np.linspace(T,T+0.5,100+1)\n",
    "c1 = []\n",
    "c2 = []\n",
    "c3 = []\n",
    "for i in t:\n",
    "    c1.append(bs_exact('call',S0,i,K,r,sigma)) \n",
    "    c2.append(bs_exact('call',S0,i,K+4,r,sigma))\n",
    "    c3.append(bs_exact('call',S0,i,K-4,r,sigma))\n",
    "    \n",
    "import matplotlib.pyplot as plt\n",
    "plt.rcParams['figure.figsize'] = (10.0, 8.0)\n",
    "\n",
    "plt.style.use('ggplot')\n",
    "plt.figure()\n",
    "plt.plot(t,c1,'r',label = 'neutral strike price')\n",
    "plt.plot(t,c2,'b',label = 'higher strike price')\n",
    "plt.plot(t,c3,'y', label = 'lower strike price')\n",
    "plt.xlabel('Time (Years)')\n",
    "plt.ylabel('V(S,t)')\n",
    "plt.legend(loc = 1)\n",
    "plt.show()"
   ]
  },
  {
   "cell_type": "markdown",
   "metadata": {
    "collapsed": false
   },
   "source": [
    "$V(S, t)$ shifts upwards in a parallel fashion for lower strike prices, and vice versa. So far, the analytical solution is consistent with real option pricing."
   ]
  },
  {
   "cell_type": "code",
   "execution_count": 5,
   "metadata": {
    "collapsed": false
   },
   "outputs": [
    {
     "ename": "NameError",
     "evalue": "name 'bs_exact' is not defined",
     "output_type": "error",
     "traceback": [
      "\u001b[0;31m---------------------------------------------------------------------------\u001b[0m",
      "\u001b[0;31mNameError\u001b[0m                                 Traceback (most recent call last)",
      "\u001b[0;32m<ipython-input-5-ea8be108204a>\u001b[0m in \u001b[0;36m<module>\u001b[0;34m()\u001b[0m\n\u001b[1;32m      7\u001b[0m \u001b[0mcalls\u001b[0m \u001b[0;34m=\u001b[0m \u001b[0;34m[\u001b[0m\u001b[0;34m]\u001b[0m\u001b[0;34m\u001b[0m\u001b[0m\n\u001b[1;32m      8\u001b[0m \u001b[0;32mfor\u001b[0m \u001b[0ms\u001b[0m \u001b[0;32min\u001b[0m \u001b[0msigma\u001b[0m\u001b[0;34m:\u001b[0m\u001b[0;34m\u001b[0m\u001b[0m\n\u001b[0;32m----> 9\u001b[0;31m     \u001b[0mcalls\u001b[0m\u001b[0;34m.\u001b[0m\u001b[0mappend\u001b[0m\u001b[0;34m(\u001b[0m\u001b[0mbs_exact\u001b[0m\u001b[0;34m(\u001b[0m\u001b[0;34m'call'\u001b[0m\u001b[0;34m,\u001b[0m\u001b[0mS0\u001b[0m\u001b[0;34m,\u001b[0m\u001b[0mT\u001b[0m\u001b[0;34m,\u001b[0m\u001b[0mK\u001b[0m\u001b[0;34m,\u001b[0m\u001b[0mr\u001b[0m\u001b[0;34m,\u001b[0m\u001b[0ms\u001b[0m\u001b[0;34m)\u001b[0m\u001b[0;34m)\u001b[0m\u001b[0;34m\u001b[0m\u001b[0m\n\u001b[0m\u001b[1;32m     10\u001b[0m \u001b[0;32mimport\u001b[0m \u001b[0mmatplotlib\u001b[0m\u001b[0;34m.\u001b[0m\u001b[0mpyplot\u001b[0m \u001b[0;32mas\u001b[0m \u001b[0mplt\u001b[0m\u001b[0;34m\u001b[0m\u001b[0m\n\u001b[1;32m     11\u001b[0m \u001b[0mplt\u001b[0m\u001b[0;34m.\u001b[0m\u001b[0mrcParams\u001b[0m\u001b[0;34m[\u001b[0m\u001b[0;34m'figure.figsize'\u001b[0m\u001b[0;34m]\u001b[0m \u001b[0;34m=\u001b[0m \u001b[0;34m(\u001b[0m\u001b[0;36m10.0\u001b[0m\u001b[0;34m,\u001b[0m \u001b[0;36m8.0\u001b[0m\u001b[0;34m)\u001b[0m\u001b[0;34m\u001b[0m\u001b[0m\n",
      "\u001b[0;31mNameError\u001b[0m: name 'bs_exact' is not defined"
     ]
    }
   ],
   "source": [
    "#Let's use data for cisco's options and stock price to see if there is one implied volatility which is correct in deriving the actual fair value of the option.\n",
    "K = 11\n",
    "T = 1/3\n",
    "S0 = 16.26\n",
    "r = 0.02\n",
    "sigma = np.linspace(0.1,0.9)\n",
    "calls = []\n",
    "for s in sigma:\n",
    "    calls.append(bs_exact('call',S0,T,K,r,s))\n",
    "import matplotlib.pyplot as plt\n",
    "plt.rcParams['figure.figsize'] = (10.0, 8.0)\n",
    "\n",
    "plt.style.use('ggplot')\n",
    "plt.figure()\n",
    "\n",
    "plt.plot(sigma,calls,'b')\n",
    "plt.axhline(5.6) #actual price of stock\n",
    "plt.xlabel('Implied Volatility (sigma)')\n",
    "plt.ylabel('V(S,t)')\n",
    "#idx = np.argwhere(np.diff(np.sign(calls - 5.6)) != 0)\n",
    "#We can eyeball the intersection occurs at an implied volatility close to 0.59\n",
    "#However, we observe that different strike prices also have different implied volatilities, in an option chain for an asset."
   ]
  },
  {
   "cell_type": "markdown",
   "metadata": {
    "collapsed": false
   },
   "source": [
    "#### Once again, the volatility we derive ($0.5898$) is very close to the actual implied volatilty of the stock ($0.58$), at the fixed actual fair value of the asset. But, even though we may be confident in the assumptions of the Black-Scholes model, the analytical solution derived above falls short at the point where it estimates different volatilities for different strike prices, for options with a fixed risk-free interest rate and time to maturity, hence we need a better model for pricing real options. While Fourier Transforms, Monte Carlo Methods, and integrators are used in contemporary literature on real option pricing, I shall use Finite Difference Methods to approximate the fair value of options."
   ]
  },
  {
   "cell_type": "markdown",
   "metadata": {
    "collapsed": false
   },
   "source": [
    "#### The idea underlying Finite differences method is to replace the derivatives, which are some functional limit in the language of analysis, with approximations corresponding to small values between each step size in time and asset price. As an overview, one employs a backwards 'time-marching' approach where a known approximate solution at time $t = T$ (the expiry of the option), is used to approximate a new solution at a stepped time, $t = T-1$, and then interate this process till one calculates the approximate solution when $t = 0$ to retrieve present day fair value of the option price. Hence, we can discretize (1) to a two-dimensional grid of time, in terms of years, and the underlying value of the asset. \n",
    "![discretization image](https://quintus-zhang.github.io/post/on_pricing_options_with_finite_difference_methods/boundary_conditions.png) \n",
    "#### $S$ represents the underlying price of the asset in present day, so we'll use to $x$ to represent the discretization of asset prices. Hence, we need $x_{max}$, which is the underlying price of the asset unlikely to be reached, and for the remaining mesh-points, $$ t = 0,\\delta{t},2\\delta{t},3\\delta{t},...,m\\delta{t}$$ and $$x=0,\\delta{x},2\\delta{x},...,n\\delta{x}$$  \n",
    "#### $\\delta{t}$ and $\\delta{S}$ are the mesh sizes, and for each node $i\\delta{S}$ and $j\\delta{t}$, we use the grid notation $$V(m,n) = V(m\\delta{x},n\\delta{t})$$ For this, we fix the values of $x$ we are interested in, say $x_{min}$ and $x_{max}$, the number $m$ of subintervals of time period: $[0,T]$, and the number, $n$ of subintervals we use in the $x$ direction. We pick these boundaries on $x$ so simple boundary conditions may be implemented so . The final condition (or initial condition depending on one's perspective) is calculated at $t = T$ such that $V_{i,m} = maximum(x_{i} - K, 0)$ where $i = 1,2,...,n$. Then one implements the Dirichlet boundary condition (for purposes of simplicity) at $V_{0,k}$ and $V_{n,k}$, ($k=1,2,....,m-1$) which are equal to $maximum(x_{max} - K,0)$ and $maximum(0,x_{min}-K)$ respectively to calculate the values at the $0th$ and $nth$ rows. This means we have to use the PDE to derive $(n-1)*m$ additional equations for the unknown values. Skipping the remainder of the derivation of this method, which is described [here](http://dspace.ut.ee/bitstream/handle/10062/22466/ComputationalFinance_materjalid.pdf), the algorithm for the explicit FDF is $$ U_{i,k-1} = a_{ik}*U_{i-1,k} + b_{ik}*U_{i,k} + c_{ik}*U_{i+1,k} \\space\\space(3)$$ and  $i = 1,2,...,n-1$ and $k = 1,2,..,m $ where $ a_{i,k} = (\\frac{\\delta{t}}{\\delta{x^{2}}})(\\alpha_{i,k}-\\frac{\\beta_{i,k}\\delta{x}}{2})$, $b_{i,k} = 1 - 2\\frac{\\delta{t}}{\\delta{x^{2}}}\\alpha_{i,k} - r\\delta{t}$, $c_{i,k} = \\frac{\\delta{t}}{\\delta{x^{2}}}(\\alpha_{i,k}+\\frac{\\beta_{i,k}\\delta{x}}{2})$"
   ]
  },
  {
   "cell_type": "code",
   "execution_count": 13,
   "metadata": {
    "collapsed": false,
    "scrolled": true
   },
   "outputs": [
   ],
   "source": [
    "#Explicit FDF\n",
    "from scipy import *\n",
    "import numpy as np\n",
    "def p_call(s):\n",
    "    return (max(s-K,0))\n",
    "        #d1 = (np.log(float(S0)/K)+((r)+(sigma**2/2.))*T)/(sigma*np.sqrt(T))\n",
    "        #d2 = d1-sigma*np.sqrt(T)\n",
    "        #return S0*norm.cdf(d1)-K*np.exp(-r*T)*norm.cdf(d2)\n",
    "def phi1_call(t,xmin):\n",
    "    return(p_call(np.exp(xmin)))\n",
    "def phi2_call(t,xmax):\n",
    "    return (p_call(np.exp(xmax)))\n",
    "def bs_explicit(S0,rho,T,n,K,r,sigma,phi1,phi2,p):\n",
    "    xmin=np.log(S0/float(rho))\n",
    "    xmax=np.log(S0*rho)\n",
    "    dx=(xmax-xmin)/n\n",
    "    m= np.int(T*(sigma**2/dx**2+r))\n",
    "    x=np.linspace(xmin,xmax,n+1)\n",
    "    dt=T/float(m)\n",
    "    V=np.zeros((n+1,m+1))\n",
    "    alpha=sigma**2/2\n",
    "    beta=r-alpha\n",
    "    a=(dt/dx**2)*(alpha-(beta/2)*dx)\n",
    "    b=1-(2*dt/dx**2)*alpha-(r*dt)\n",
    "    c=(dt/dx**2)*(alpha+(beta/2)*dx)\n",
    "    t=linspace(0,T,m+1)\n",
    "    i=np.arange(1,n)\n",
    "    #final condition\n",
    "    V[:,m]=x-K\n",
    "    mask = (V[:,m] < 0)\n",
    "    V[mask,m]=0\n",
    "    for k in np.arange(m,0,-1):\n",
    "         #boundary conditions\n",
    "        V[0,k-1]=phi1(t[k-1],xmin)\n",
    "        V[n,k-1]=phi2(t[k-1],xmax)\n",
    "        V[i,k-1]=a*V[i-1,k]+b*V[i,k]+c*V[i+1,k] #Finally, the explicit method itself for all values barring those at boundaries\n",
    "    return([V[:,0],np.exp(x)])"
   ]
  },
  {
   "cell_type": "markdown",
   "metadata": {
    "collapsed": false
   },
   "source": [
    "Let's compare the analytical solutions to those from the explicit FDF."
   ]
  },
  {
   "cell_type": "code",
   "execution_count": 14,
   "metadata": {
    "collapsed": false
   },
   "outputs": [
    {
     "name": "stderr",
     "output_type": "stream",
     "text": [
      "/ext/anaconda3/lib/python3.5/site-packages/ipykernel/__main__.py:36: VisibleDeprecationWarning: using a non-integer number instead of an integer will result in an error in the future\n",
      "/ext/anaconda3/lib/python3.5/site-packages/ipykernel/__main__.py:37: VisibleDeprecationWarning: using a non-integer number instead of an integer will result in an error in the future\n"
     ]
    },
    {
     "name": "stdout",
     "output_type": "stream",
     "text": [
      "10.2355341156\n",
      "28.7865747055\n"
     ]
    },
    {
     "data": {
      "image/png": "[encoded data removed]"
     },
     "metadata": {
      "image/png": {
       "height": 489,
       "width": 535
      }
     }
    },
    {
     "data": {
      "image/png": "[encoded data removed]"
     },
     "metadata": {
      "image/png": {
       "height": 469,
       "width": 532
      }
     }
    }
   ],
   "source": [
    "#example data typically used a to describe a vanilla European option.\n",
    "K=97\n",
    "T=1.5\n",
    "S0=100\n",
    "r=0.06\n",
    "rho=3\n",
    "sigma=0.5\n",
    "n=100\n",
    "answer= bs_explicit(S0,rho,T,n,K,r,sigma,phi1_call,phi2_call,p_call)\n",
    "approx = answer[0]\n",
    "S = answer[1]\n",
    "# Using the matrix of discretized values of S, one can retrieve exact solutions\n",
    "# for each asset price, and the example parameters above, to compare against the solutions from \n",
    "# the explicit FDF\n",
    "exact = np.zeros(n+1) #create empty matrix to store in exact solutions\n",
    "for i in range(n+1):\n",
    "    exact[i] = bs_exact('call',S[i],T,K,r,sigma)\n",
    "# bs_exact('call',S,T,K,r,sigma)\n",
    "error = exact - approx\n",
    "#print(exact)\n",
    "%matplotlib inline\n",
    "import matplotlib.pyplot as plt\n",
    "plt.rcParams['figure.figsize'] = (7.5, 7.5)\n",
    "plt.style.use('fivethirtyeight')\n",
    "plt.figure()\n",
    "discretized_time = np.linspace(0,T,n+1)\n",
    "plt.plot(discretized_time,approx,'b',label='Explicit FDF')\n",
    "plt.plot(discretized_time,exact,'g',label='Analytical')\n",
    "plt.xlabel('Time (Years)')\n",
    "plt.ylabel('V(S,t) (USD)')\n",
    "plt.legend(loc = 'upper left')\n",
    "#error_graph\n",
    "plt.figure()\n",
    "plt.semilogy(discretized_time,error,'r')\n",
    "plt.ylabel('Error (USD)')\n",
    "print(approx[n/2]) #the fair value price we were seeking with respect to the value of S0\n",
    "print(exact[n/2])"
   ]
  },
  {
   "cell_type": "markdown",
   "metadata": {
    "collapsed": false
   },
   "source": [
    "### This example illustrates the FDF underestimates the fair value of the option price computed by the analytical solution, and this disparity worsens as it marches further and further back in time towards the value corresponding to the underlying price of the asset. Clearly, this numerical approximation is not as precise compared to ones studied this semester."
   ]
  },
  {
   "cell_type": "markdown",
   "metadata": {
    "collapsed": false
   },
   "source": [
    "#### Now, I need to retrieve live financial information for options, based on fixed values of time till maturity, to use as sample arguments in order to test this method's efficacy. Luckily I can also retrieve the last price (including bids and asks), as a realistic standard of comparison against the singular output of the methods below to ascertain this fair value."
   ]
  },
  {
   "cell_type": "code",
   "execution_count": 15,
   "metadata": {
    "collapsed": false
   },
   "outputs": [
   ],
   "source": [
    "#Create function to retrieve option for a fixed date till maturity\n",
    "import numpy as np\n",
    "from pandas_datareader.data import Options\n",
    "from pandas_datareader.data import DataReader\n",
    "import pandas as pd\n",
    "from datetime import datetime\n",
    "import json\n",
    "def option_fixed_time(asset,expiry):  #,asset_price):\n",
    "    actual_prices = []\n",
    "    #df = pd.DataFrame(columns = columns) #initialize an empty dataframe to store values in later\n",
    "    #try one option chain\n",
    "    start = datetime(2017, 11, 27)\n",
    "    end = datetime(2017, 11, 28)\n",
    "    try:\n",
    "    #need a try-except block\n",
    "        stock_price = DataReader(asset.upper(),'yahoo')\n",
    "    except RemoteDataError:\n",
    "        pass\n",
    "        #print('couldnt connect to yahoo finance, try again') #need a smarter way to program this\n",
    "    S = stock_price['Adj Close'][-1] #Retrieve today's price #Note there is only one stock price regardless of your time of expiration of interest\n",
    "    #So, we can get the underlying value of the asset right away, in order to get the other arguments, we shall fix the date of         expiration and get a list of 6 options at a time with different 'actual prices', strike prices (K), and implied vols.                 (Sigma).\n",
    "    #Then retrieve options data using Options() from pandas\n",
    "    options = Options(asset, 'yahoo')\n",
    "    expiry = datetime(2017+expiry, 1, 18)\n",
    "    data_fixed_t = options.get_call_data(expiry = expiry)  #18th Jan 2019, so expires in approximately 14 months\n",
    "    for i in range(0,11):\n",
    "        json_dict = (data_fixed_t[\"JSON\"][i])\n",
    "        #Get 5 inputs for the solutions to B&S model\n",
    "        exact_live = json_dict['lastPrice']\n",
    "        K = json_dict['strike']\n",
    "        #therefore the time till maturity is:\n",
    "        T = 14/12.0  #since the date of expiration is in units of years\n",
    "        sigma = json_dict['impliedVolatility']\n",
    "        r = 0.0201 #November 2017 5-year Treasury Bill rate (retrieved from https://www.treasury.gov/resource-center/data-chart-center/interest-rates/Pages/TextView.aspx?data=yield)\n",
    "#         ee_price = bs_explicit(S,M,T,N,K,r,sigma) #price estimation according to explicit FD method\n",
    "        \n",
    "#         actual_prices.append(np.array([actual_price]))\n",
    "#         ee_prices.append(np.array([ee_price]))\n",
    "        #a.append(np.array([S,K,T,sigma,r,actual_price])) #6 entries per row\n",
    "    arguments = S,T,K,r,sigma\n",
    "    return arguments, exact_live"
   ]
  },
  {
   "cell_type": "code",
   "execution_count": 16,
   "metadata": {
    "collapsed": false,
    "scrolled": true
   },
   "outputs": [
   ],
   "source": [
    "def bs_graph_exact_fdf(asset):\n",
    "    results = option_fixed_time(asset,1)\n",
    "    a = results[0]\n",
    "    rho = 3\n",
    "    n = 100\n",
    "    answer = bs_explicit(a[0],rho,a[1],n,a[2],a[3],a[4],phi1_call,phi2_call,p_call)\n",
    "    approx = answer[0]\n",
    "    S = answer[1]\n",
    "    exact = np.zeros(n+1) #create empty matrix to store in exact solutions\n",
    "    for i in range(n+1):\n",
    "        exact[i] = bs_exact('call',S[i],T,K,r,sigma)\n",
    "    error = exact - approx\n",
    "    plt.rcParams['figure.figsize'] = (7.5, 7.5)\n",
    "    plt.style.use('fivethirtyeight')\n",
    "    plt.figure()\n",
    "    discretized_time = np.linspace(0,T,n+1)\n",
    "    plt.plot(discretized_time,approx,'b',label='Explicit FDF')\n",
    "    plt.axhline(results[1])\n",
    "    plt.plot(discretized_time,exact,'g',label='Analytical')\n",
    "    plt.xlabel('Time (Years)')\n",
    "    plt.ylabel('V(S,t)')\n",
    "    plt.legend(loc = 'upper left')\n",
    "    #error_graph\n",
    "    plt.figure()\n",
    "    plt.semilogy(discretized_time,error,'r')\n",
    "    plt.ylabel('Error (USD)')\n",
    "    print('FDF fair value of option, with respect to the corresponding value of S0:','',approx[n/2])\n",
    "    print('Exact value of option, with respect to the corresponding value of S0:','',exact[n/2])\n",
    "    print('Actual value of option from finance.yahoo.com:','',results[1]) #actual option value on yahoo finance"
   ]
  },
  {
   "cell_type": "code",
   "execution_count": 18,
   "metadata": {
    "collapsed": false
   },
   "outputs": [
    {
     "name": "stderr",
     "output_type": "stream",
     "text": [
      "/ext/anaconda3/lib/python3.5/site-packages/ipykernel/__main__.py:27: VisibleDeprecationWarning: using a non-integer number instead of an integer will result in an error in the future\n",
      "/ext/anaconda3/lib/python3.5/site-packages/ipykernel/__main__.py:28: VisibleDeprecationWarning: using a non-integer number instead of an integer will result in an error in the future\n"
     ]
    },
    {
     "name": "stdout",
     "output_type": "stream",
     "text": [
      "FDF fair value of option, with respect to the corresponding value of S0:  124.842184575\n",
      "Exact value of option, with respect to the corresponding value of S0:  163.328031524\n",
      "Actual value of option from finance.yahoo.com:  119.0\n"
     ]
    },
    {
     "data": {
      "image/png": "[encoded data removed]"
     },
     "metadata": {
      "image/png": {
       "height": 489,
       "width": 535
      }
     }
    },
    {
     "data": {
      "image/png": "[encoded data removed]"
     },
     "metadata": {
      "image/png": {
       "height": 469,
       "width": 558
      }
     }
    }
   ],
   "source": [
    "bs_graph_exact_fdf('gs')"
   ]
  },
  {
   "cell_type": "markdown",
   "metadata": {
    "collapsed": false
   },
   "source": [
    "#### While not incredibly different, using live prices for actual commodities, specifically NVDIA stock in this case seems to bring the numerical and analytical solutions closer together. As a thought experiment, when I selected stock tickers for companies with very cut and dry options, like technology companies, the estimations above faired better than those for companies within the financial sector, like Bank of America."
   ]
  },
  {
   "cell_type": "markdown",
   "metadata": {
    "collapsed": false
   },
   "source": [
    "#### However, varying different commodities for present-day markets are not very illustrative of the precision of the Explicit FDF, in comparison to the Analytical Solution. Let's see how these methods approximate the fair value, while steadily varying the underlying price of the asset."
   ]
  },
  {
   "cell_type": "code",
   "execution_count": 22,
   "metadata": {
    "collapsed": false
   },
   "outputs": [
    {
     "data": {
      "text/plain": [
       "Text(0.5,0,'Asset Price (USD)')"
      ]
     },
     "execution_count": 22,
     "metadata": {
     },
     "output_type": "execute_result"
    },
    {
     "data": {
      "image/png": "[encoded data removed]"
     },
     "metadata": {
      "image/png": {
       "height": 451,
       "width": 484
      }
     }
    }
   ],
   "source": [
    "import timefrom mpl_toolkits.mplot3d import Axes3D\n",
    "from matplotlib import cm\n",
    "K=97\n",
    "T=1.5\n",
    "#S0=np.arange(100,201,1)\n",
    "S0 = 100\n",
    "r=0.06\n",
    "rho=3\n",
    "sigma=0.5\n",
    "n=100\n",
    "discretized_time=np.linspace(0,T,n+1)\n",
    "#discretized_space=np.linspace()\n",
    "#answers = [bs_explicit(S0[i],rho,T,n,K,r,sigma,phi1_call,phi2_call,p_call)[0][n/2] for i in range(len(S0))]\n",
    "answers = bs_explicit(S0,rho,T,n,K,r,sigma,phi1_call,phi2_call,p_call)\n",
    "Z,Y=np.meshgrid(answers[0],answers[1])\n",
    "X,Y=np.meshgrid(discretized_time,answers[1])\n",
    "# X, Y = np.meshgrid(discretized_time, S0)\n",
    "# Z1 , Z2 = np.meshgrid(discretized_time, answers)\n",
    "# np.shape(discretized_time)\n",
    "fig = plt.figure()\n",
    "ax = fig.gca(projection='3d')\n",
    "# for angle in range(0, 360):\n",
    "#     ax.view_init(30, angle)\n",
    "#     ax.plot_surface(X,Y,Z,cmap = cm.coolwarm)\n",
    "#     plt.pause(0.1)\n",
    "ax.view_init(30,140)\n",
    "ax.plot_surface(X,Y,Z,cmap = cm.coolwarm)\n",
    "#plt.savefig(\"movie%d.png\" % ii)\n",
    "plt.xlabel('Time (Years)')\n",
    "plt.ylabel('Asset Price (USD)')\n",
    "#Fair Value on the Z-Axis\n",
    "#fig.colorbar(surf, shrink=0.7, aspect=11)\n",
    "# for angle in range(0, 360):\n",
    "#     ax.view_init(30, angle)\n",
    "#     plt.draw()\n",
    "#     plt.pause(.001)"
   ]
  },
  {
   "cell_type": "code",
   "execution_count": 0,
   "metadata": {
    "collapsed": false
   },
   "outputs": [
   ],
   "source": [
    "# from mpl_toolkits.mplot3d import Axes3D\n",
    "# from matplotlib import cm\n",
    "# K=97\n",
    "# T=1.5\n",
    "# S0=np.arange(100,201,1)\n",
    "# r=0.06\n",
    "# rho=3\n",
    "# sigma=0.5\n",
    "# n=100\n",
    "# discretized_time=np.linspace(0,T,n+1)\n",
    "# answers = [bs_explicit(S0[i],rho,T,n,K,r,sigma,phi1_call,phi2_call,p_call)[0][n/2] for i in range(len(S0))]\n",
    "# X, Y = np.meshgrid(discretized_time, S0)\n",
    "# Z1 , Z2 = np.meshgrid(discretized_time, answers)\n",
    "# np.shape(discretized_time)\n",
    "# fig = plt.figure()\n",
    "# ax = fig.gca(projection='3d')\n",
    "# #ax.plot_surface(X,Y,Z1)\n",
    "# ax.plot_surface(X,Y,Z2,cmap = cm.coolwarm)\n",
    "# plt.xlabel('Time (Years)')\n",
    "# plt.ylabel('Asset Price (USD)')\n",
    "# #Fair Value on the Z-Axis"
   ]
  },
  {
   "cell_type": "code",
   "execution_count": 0,
   "metadata": {
    "collapsed": false,
    "scrolled": true
   },
   "outputs": [
   ],
   "source": [
    "# from mpl_toolkits.mplot3d import Axes3D\n",
    "# from matplotlib import cm\n",
    "# K=97\n",
    "# T=1.5\n",
    "# S0=np.arange(100,201,1)\n",
    "# r=0.06\n",
    "# rho=3\n",
    "# sigma=0.5\n",
    "# n=100\n",
    "# discretized_time=np.linspace(0,T,n+1)\n",
    "# answers = [bs_explicit(S0[i],rho,T,n,K,r,sigma,phi1_call,phi2_call,p_call)[0] for i in range(len(S0))]\n",
    "# # np.shape(answers[3])\n",
    "# X, Y = np.meshgrid(discretized_time, S0)\n",
    "# Z1 , Z2 = np.meshgrid(discretized_time, answers[7])\n",
    "# np.shape(discretized_time)\n",
    "# fig = plt.figure()\n",
    "# ax = fig.gca(projection='3d')\n",
    "# #ax.plot_surface(X,Y,Z1)\n",
    "# ax.plot_surface(X,Y,Z2,cmap = cm.coolwarm)\n",
    "# plt.xlabel('Time (Years)')\n",
    "# plt.ylabel('Asset Price (USD)')\n",
    "# #Fair Value on the Z-Axis"
   ]
  }
 ],
 "metadata": {
  "kernelspec": {
   "display_name": "Python 3 (Anaconda)",
   "language": "python",
   "name": "anaconda3"
  },
  "language_info": {
   "codemirror_mode": {
    "name": "ipython",
    "version": 3
   },
   "file_extension": ".py",
   "mimetype": "text/x-python",
   "name": "python",
   "nbconvert_exporter": "python",
   "pygments_lexer": "ipython3",
   "version": "3.5.4"
  }
 },
 "nbformat": 4,
 "nbformat_minor": 0
}